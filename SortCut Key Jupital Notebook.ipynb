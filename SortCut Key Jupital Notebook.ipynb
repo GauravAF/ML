{
 "cells": [
  {
   "cell_type": "markdown",
   "metadata": {},
   "source": [
    "# Jupyter Notebook\n",
    "\n",
    "#### Jupyter notebook, formerly known as the IPython notebook, is a flexible tool that helps you create readable analyses, as you can keep code, images, comments, formulae and plots together. In this post, we’ve collected some of the top Jupyter notebook tips to quickly turn you into a Jupyter power user!\n",
    "\n",
    "#### Another way to access keyboard shortcuts, and a handy way to learn them is to use the command palette: **Ctrl + Shift + P**. "
   ]
  },
  {
   "cell_type": "markdown",
   "metadata": {},
   "source": [
    "# Importent sortcut key"
   ]
  },
  {
   "cell_type": "markdown",
   "metadata": {},
   "source": [
    "1. **Esc** will take you into command mode where you can navigate around your notebook with arrow keys.  \n",
    "\n",
    "\n",
    "2. While in command mode:  \n",
    "    a. **A** to insert a new cell above the current cell.  \n",
    "    \n",
    "    b. **B** to insert a new cell below.  \n",
    "    \n",
    "    c. **M** to change the current cell to Markdown.  \n",
    "    \n",
    "    d. **Y** to change it back to code.  \n",
    "    \n",
    "    e. **D + D** (press the key twice) to delete the current cell    \n",
    "    \n",
    "    \n",
    "3. **Enter** will take you from command mode back into edit mode for the given cell.\n",
    "\n",
    "\n",
    "4. **Shift + Tab** will show you the Docstring (documentation) for the the object you have just typed in a code cell – \n",
    "   you can keep pressing this short cut to cycle through a few modes of documentation.\n",
    "   \n",
    "    \n",
    "5. **Ctrl + Shift + -** will split the current cell into two from where your cursor is.\n",
    "\n",
    "\n",
    "6. **Esc + F** Find and replace on your code but not the outputs.\n",
    "\n",
    "\n",
    "7. **Esc + O** Toggle cell output.\n",
    "\n",
    "\n",
    "8. Select Multiple Cells:  \n",
    "\n",
    "   a. **Shift + J** or **Shift + Down** selects the next sell in a downwards direction.  \n",
    "   \n",
    "   b. You can also select sells in an upwards direction by using **Shift + K** or **Shift + Up**.  \n",
    "   \n",
    "   c. Once cells are selected, you can then delete / copy / cut / paste / run them as a batch. This is helpful when you need to move parts of a notebook.  \n",
    "   \n",
    "   c. You can also use **Shift + M** to merge multiple cells.  \n",
    "   "
   ]
  },
  {
   "cell_type": "code",
   "execution_count": null,
   "metadata": {},
   "outputs": [],
   "source": []
  }
 ],
 "metadata": {
  "kernelspec": {
   "display_name": "Python 3",
   "language": "python",
   "name": "python3"
  },
  "language_info": {
   "codemirror_mode": {
    "name": "ipython",
    "version": 3
   },
   "file_extension": ".py",
   "mimetype": "text/x-python",
   "name": "python",
   "nbconvert_exporter": "python",
   "pygments_lexer": "ipython3",
   "version": "3.7.1"
  }
 },
 "nbformat": 4,
 "nbformat_minor": 2
}
